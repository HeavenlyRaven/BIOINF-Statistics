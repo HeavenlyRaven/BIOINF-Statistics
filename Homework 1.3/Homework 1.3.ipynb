{
 "cells": [
  {
   "cell_type": "markdown",
   "metadata": {
    "collapsed": true
   },
   "source": [
    "### <span style=\"color:green\">Task 1</span>\n",
    "\n",
    "В виду конечности моментов, обозначим $\\mathbb{E}X = \\mu,~\\mathbb{D}X = \\sigma^2$, где $X \\sim \\mathcal{F}$. Тогда из условия имеем оценку:\n",
    "\n",
    "$$\\hat{\\mu} = \\overline{X}$$\n",
    "\n",
    "Требуется оценить:\n",
    "\n",
    "$$\\delta = \\mathbb{D}\\overline{X}$$\n",
    "\n",
    "Возьмем следующую оценку для дельта:\n",
    "\n",
    "$$\\hat{\\delta} = \\frac{S^2}{n} = \\frac{1}{n(n-1)}\\sum_{i=1}^n\\left(X_i-\\overline{X}\\right)^2$$\n",
    "\n",
    "Докажем её несмещённость (см. задание 4 из ДЗ 1.1 и задание 3 из ДЗ 1.2):\n",
    "\n",
    "$$\\mathbb{E}\\hat{\\delta} = \\frac{1}{n}\\mathbb{E}S^2 = \\frac{\\mathbb{D}X}{n} = \\mathbb{D}\\overline{X} = \\delta$$\n",
    "\n",
    "Докажем её состоятельность, имея факт несмещённости (см. задание 3 из ДЗ 1.2):\n",
    "\n",
    "$$\\mathbb{D}\\hat{\\delta} = \\frac{1}{n^2}\\mathbb{D}S^2 = \\frac{2\\sigma^4}{n^2(n-1)} \\xrightarrow[n \\to \\infty]{}0$$"
   ]
  },
  {
   "cell_type": "markdown",
   "metadata": {},
   "source": [
    "### <span style=\"color:orange\">Task 2</span>\n",
    "\n",
    "(1) Дана модель $N(\\theta, \\sigma^2)$. Требуется оценить $\\theta$. Возьмём следующую оценку:\n",
    "\n",
    "$$\\hat{\\theta} = \\overline{X}$$\n",
    "\n",
    "Состоятельность и несмещённость выполняется исходя из результатов задания 4 из ДЗ 1.1 и конечности дисперсии в данной модели. Эффективность и нормальность тоже выполняется (см. лекцию 1.2).\n",
    "\n",
    "Посчитаем теперь эту оценку для данной выборки:"
   ]
  },
  {
   "cell_type": "code",
   "execution_count": 22,
   "metadata": {},
   "outputs": [
    {
     "data": {
      "text/plain": [
       "7.594289066869672"
      ]
     },
     "execution_count": 22,
     "metadata": {},
     "output_type": "execute_result"
    }
   ],
   "source": [
    "import pandas as pd\n",
    "\n",
    "data = pd.read_csv('IB_statistics_data_HW1.3.txt', sep=' ')\n",
    "X2 = data['Ex2']\n",
    "\n",
    "X2_mean = X2.mean()\n",
    "X2_mean"
   ]
  },
  {
   "cell_type": "markdown",
   "metadata": {},
   "source": [
    "(2) Дана модель $N(\\mu, \\theta)$. Требуется оценить $\\theta$. Возьмём следующую оценку:\n",
    "\n",
    "$$\\hat{\\theta} = \\frac{1}{n}\\sum_{i=1}^n\\left(X_i-\\mu\\right)^2$$\n",
    "\n",
    "Данная оценка является эффективной (а следовательно и несмещённой) и, судя по виду её дисперсии, состоятельной (см. лекцию 1.2). Посмотрим, является ли она (асимптотически) нормальной:\n",
    "\n",
    "$$\\sqrt{n}\\left(\\frac{1}{n}\\sum_{i=1}^n\\left(X_i-\\mu\\right)^2 - \\theta\\right) = \\sqrt{n}\\left(\\frac{\\theta}{n}\\chi^2(n)-\\theta\\right) = \\theta\\frac{\\chi^2(n)-n}{\\sqrt{n}}$$\n",
    "\n",
    "Из ЦПТ следует:\n",
    "\n",
    "$$\\frac{\\chi^2(n)-n}{\\sqrt{2n}} \\xrightarrow{d} N(0, 1) \\Leftrightarrow \\theta\\frac{\\chi^2(n)-n}{\\sqrt{n}} \\xrightarrow{d} N(0, 2\\theta^2)$$\n",
    "\n",
    "Асимптотическая нормальность доказана (наверное).\n",
    "\n",
    "Посчитаем теперь эту оценку для данной выборки:"
   ]
  },
  {
   "cell_type": "code",
   "execution_count": 38,
   "metadata": {},
   "outputs": [
    {
     "data": {
      "text/plain": [
       "3.699968476643039"
      ]
     },
     "execution_count": 38,
     "metadata": {},
     "output_type": "execute_result"
    }
   ],
   "source": [
    "mu = 7.5\n",
    "X2_n = len(X2)\n",
    "\n",
    "sum((x-7.5)**2 for x in X2)/X2_n"
   ]
  },
  {
   "cell_type": "markdown",
   "metadata": {},
   "source": [
    "(3) Дана модель $N(\\theta_1, \\theta_1)$. Требуется оценить $\\theta_1$ и $\\theta_2$. Возьмём следующие оценки:\n",
    "\n",
    "$$\\hat{\\theta}_1 = \\overline{X},~\\hat{\\theta}_2 = S^2$$\n",
    "\n",
    "Для оценки первого параметра всё было доказано в первом пункте (оценка не зависит от второго параметра).\n",
    "\n",
    "Вторая оценка является состоятельной и несмещённой (см. задание 3 из ДЗ 1.2). Посмотрим, является ли она эффективной и (асимптотически) нормальной:\n",
    "\n",
    "[TO DO]\n",
    "\n",
    "Посчитаем теперь эту оценку для данной выборки:"
   ]
  },
  {
   "cell_type": "code",
   "execution_count": 23,
   "metadata": {},
   "outputs": [
    {
     "data": {
      "text/plain": [
       "3.7073383042322012"
      ]
     },
     "execution_count": 23,
     "metadata": {},
     "output_type": "execute_result"
    }
   ],
   "source": [
    "sum((x-X2_mean)**2 for x in X2)/(n-1)"
   ]
  },
  {
   "cell_type": "markdown",
   "metadata": {},
   "source": [
    "### <span style=\"color:orange\">Task 3</span>\n",
    "\n",
    "(1) Дана модель $Binom(p, \\theta)$. Требуется оценить $\\theta$. Неплохой оценкой является $\\max_{1 \\le i \\le n} X_i$, но для неё сложно доказывать свойства, поэтому мы возьмём следующую оценку, полученную, как нетрудно догадаться, по методу моментов:\n",
    "\n",
    "$$\\hat{\\theta} = \\frac{\\overline{X}}{p}$$\n",
    "\n",
    "Покажем её несмещённость:\n",
    "\n",
    "$$\\mathbb{E}\\hat{\\theta} = \\frac{1}{p}\\mathbb{E}{\\overline{X}} = \\frac{\\mathbb{E}X}{p} = \\frac{\\theta p}{p} = \\theta$$\n",
    "\n",
    "Покажем её состоятельность, имея факт несмещённости:\n",
    "\n",
    "$$\\mathbb{D}\\hat{\\theta} = \\frac{1}{p^2}\\mathbb{D}{\\overline{X}} = \\frac{\\mathbb{D}X}{np^2} = \\frac{\\theta(1-p)}{np}\\xrightarrow[n \\to \\infty]{}0$$\n",
    "\n",
    "Покажем асимптотическую нормальность. Из ЦПТ следует:\n",
    "\n",
    "$$\\sqrt{n}\\left(\\frac{\\overline{X}}{p}-\\theta\\right) = \\frac{\\sum_{i=1}^n X_i - p\\theta n}{p\\sqrt{n}} \\xrightarrow{d} N\\left(0, \\frac{\\theta(1-p)}{p}\\right)$$\n",
    "\n",
    "Покажем, эффективна ли эта оценка: \n",
    "\n",
    "[TO DO]\n",
    "\n",
    "Посчитаем теперь эту оценку для данной выборки:"
   ]
  },
  {
   "cell_type": "code",
   "execution_count": 29,
   "metadata": {},
   "outputs": [
    {
     "data": {
      "text/plain": [
       "12.587719298245613"
      ]
     },
     "execution_count": 29,
     "metadata": {},
     "output_type": "execute_result"
    }
   ],
   "source": [
    "X3 = data['Ex3']\n",
    "p = 0.2\n",
    "\n",
    "X3_mean = X3.mean()\n",
    "\n",
    "X3_mean/p"
   ]
  },
  {
   "cell_type": "markdown",
   "metadata": {},
   "source": [
    "(2) Дана модель $Binom(\\theta, r)$. Требуется оценить $\\theta$. Возьмём следующую оценку:\n",
    "\n",
    "$$\\hat{\\theta} = \\frac{\\overline{X}}{r}$$\n",
    "\n",
    "Данная оценка является эффективной (а следовательно и несмещённой) и, судя по виду её дисперсии, состоятельной (см. лекцию 1.2). Посмотрим, является ли она (асимптотически) нормальной. Из ЦПТ следует:\n",
    "\n",
    "$$\\sqrt{n}\\left(\\frac{\\overline{X}}{r}-\\theta\\right) = \\frac{\\sum_{i=1}^n X_i - r\\theta n}{r\\sqrt{n}} \\xrightarrow{d} N\\left(0, \\frac{\\theta(1-\\theta)}{r}\\right)$$\n",
    "\n",
    "Посчитаем теперь эту оценку для данной выборки:"
   ]
  },
  {
   "cell_type": "code",
   "execution_count": 30,
   "metadata": {},
   "outputs": [
    {
     "data": {
      "text/plain": [
       "0.19365721997300944"
      ]
     },
     "execution_count": 30,
     "metadata": {},
     "output_type": "execute_result"
    }
   ],
   "source": [
    "r = 13\n",
    "\n",
    "X3_mean/r"
   ]
  },
  {
   "cell_type": "markdown",
   "metadata": {},
   "source": [
    "### <span style=\"color:orange\">Task 4</span>\n",
    "\n",
    "(a) Дана модель $\\Pi(\\theta)$. Требуется оценить $\\theta$. Возьмём следующую оценку:\n",
    "\n",
    "$$\\hat{\\theta} = \\overline{X}$$\n",
    "\n",
    "Данная оценка является эффективной (а следовательно и несмещённой) и, судя по виду её дисперсии, состоятельной (см. лекцию 1.2). Посмотрим, является ли она (асимптотически) нормальной. Из ЦПТ следует:\n",
    "\n",
    "$$\\sqrt{n}\\left(\\overline{X} - \\theta\\right) = \\frac{\\sum_{i=1}^n X_i - n\\theta}{\\sqrt{n}} \\xrightarrow{d} N(0, \\theta)$$\n",
    "\n",
    "Посчитаем теперь эту оценку для данной выборки:"
   ]
  },
  {
   "cell_type": "code",
   "execution_count": 31,
   "metadata": {},
   "outputs": [
    {
     "data": {
      "text/plain": [
       "62.916666666666664"
      ]
     },
     "execution_count": 31,
     "metadata": {},
     "output_type": "execute_result"
    }
   ],
   "source": [
    "X4a = data['Ex4a']\n",
    "\n",
    "X4a.mean()"
   ]
  },
  {
   "cell_type": "markdown",
   "metadata": {},
   "source": [
    "(b) Дана модель $Rayleigh(\\theta)$. Требуется оценить $\\theta$. Возьмём следующую оценку, полученную по методу моментов:\n",
    "\n",
    "$$\\hat{\\theta} = \\frac{\\overline{X}}{\\sqrt{\\frac{\\pi}{2}}}$$\n",
    "\n",
    "Покажем её несмещённость:\n",
    "\n",
    "$$\\mathbb{E}\\hat{\\theta} = \\sqrt{\\frac{2}{\\pi}}\\mathbb{E}\\overline{X} = \\sqrt{\\frac{2}{\\pi}}\\mathbb{E}X = \\sqrt{\\frac{2}{\\pi}}\\sqrt{\\frac{\\pi}{2}}\\theta = \\theta$$\n",
    "\n",
    "Покажем её состоятельность, имея факт несмещённости:\n",
    "\n",
    "$$\\mathbb{D}\\hat{\\theta} = \\frac{2}{\\pi}\\mathbb{D}\\overline{X} = \\frac{2\\mathbb{D}X}{\\pi n} = \\frac{2\\left(2-\\frac{\\pi}{2}\\right)\\theta^2}{\\pi n} \\xrightarrow[n \\to \\infty]{}0$$\n",
    "\n",
    "Посмотрим, является ли оценка эффективной и (асимптотически) нормальной:\n",
    "\n",
    "[TO DO]\n",
    "\n",
    "Посчитаем теперь эту оценку для данной выборки:"
   ]
  },
  {
   "cell_type": "code",
   "execution_count": 32,
   "metadata": {},
   "outputs": [
    {
     "data": {
      "text/plain": [
       "7.994125988101214"
      ]
     },
     "execution_count": 32,
     "metadata": {},
     "output_type": "execute_result"
    }
   ],
   "source": [
    "import math\n",
    "\n",
    "X4b = data['Ex4b']\n",
    "\n",
    "X4b.mean()/(math.sqrt(math.pi/2))"
   ]
  },
  {
   "cell_type": "markdown",
   "metadata": {},
   "source": [
    "### <span style=\"color:orange\">Task 5</span>\n",
    "\n",
    "Дана модель $Beta(\\theta_1, \\theta_2)$. Требуется оценить $\\theta_1$ и $\\theta_2$ с помощью метода моментов.\n",
    "\n",
    "$$\\begin{cases}\\overline{X} = \\frac{\\hat{\\theta}_1}{\\hat{\\theta}_1+\\hat{\\theta}_2}\\\\S^2 = \\frac{\\hat{\\theta}_1\\hat{\\theta}_2}{(\\hat{\\theta}_1+\\hat{\\theta}_2)^2(\\hat{\\theta}_1+\\hat{\\theta}_2+1)}\\end{cases} \\Rightarrow \\begin{cases}\\hat{\\theta}_1 = \\frac{\\overline{X}^2 - \\overline{X}^3 - \\overline{X}S^2}{S^2}\\\\\\hat{\\theta}_2 = \\frac{\\overline{X} - 2\\overline{X}^2 + \\overline{X}^3 - S^2 + \\overline{X}S^2}{S^2}\\end{cases}$$\n",
    "\n",
    "Посчитаем теперь эту оценки для данной выборки:"
   ]
  },
  {
   "cell_type": "code",
   "execution_count": 35,
   "metadata": {},
   "outputs": [
    {
     "name": "stdout",
     "output_type": "stream",
     "text": [
      "2.9646182260798226 2.4832522673531208\n"
     ]
    }
   ],
   "source": [
    "X5 = data['Ex5']\n",
    "\n",
    "X5_mean = X5.mean()\n",
    "X5_S2 = sum((x-X5_mean)**2 for x in X5)/(n-1)\n",
    "\n",
    "print((X5_mean**2-X5_mean**3-X5_mean*X5_S2)/X5_S2, (X5_mean-2*X5_mean**2+X5_mean**3-X5_S2+X5_mean*X5_S2)/X5_S2)"
   ]
  },
  {
   "cell_type": "markdown",
   "metadata": {},
   "source": [
    "### <span style=\"color:orange\">Task 6</span>\n",
    "\n",
    "Дана модель $C(0, \\theta)$. Требуется оценить $\\theta$ с помощью метода подстановки. Сперва посчитаем квантили нашей выборки:"
   ]
  },
  {
   "cell_type": "code",
   "execution_count": 40,
   "metadata": {},
   "outputs": [
    {
     "data": {
      "text/plain": [
       "0.004386   -116.168925\n",
       "0.008772    -48.364106\n",
       "0.013158    -27.367222\n",
       "0.017544    -20.032411\n",
       "0.021930    -16.284730\n",
       "               ...    \n",
       "0.978070     19.434471\n",
       "0.982456     20.691382\n",
       "0.986842     28.946461\n",
       "0.991228     37.354997\n",
       "0.995614     49.394092\n",
       "Name: Ex6, Length: 227, dtype: float64"
      ]
     },
     "execution_count": 40,
     "metadata": {},
     "output_type": "execute_result"
    }
   ],
   "source": [
    "X6 = data['Ex6']\n",
    "X6_n = len(X6)\n",
    "\n",
    "q = X6.quantile([k/n for k in range(1, X6_n)])"
   ]
  },
  {
   "cell_type": "markdown",
   "metadata": {},
   "source": [
    "Теперь подставим квантили в уравнение функции распределения, разрешим их относительно неизвестного параметра и усредним результаты:"
   ]
  },
  {
   "cell_type": "markdown",
   "metadata": {},
   "source": [
    "$$\\theta_{\\alpha} = \\frac{x_{\\alpha}}{\\tan(\\pi(\\alpha-\\frac{1}{2}))}$$"
   ]
  }
 ],
 "metadata": {
  "kernelspec": {
   "display_name": "Python 3 (ipykernel)",
   "language": "python",
   "name": "python3"
  },
  "language_info": {
   "codemirror_mode": {
    "name": "ipython",
    "version": 3
   },
   "file_extension": ".py",
   "mimetype": "text/x-python",
   "name": "python",
   "nbconvert_exporter": "python",
   "pygments_lexer": "ipython3",
   "version": "3.10.0"
  }
 },
 "nbformat": 4,
 "nbformat_minor": 1
}