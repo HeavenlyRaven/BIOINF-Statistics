{
 "cells": [
  {
   "cell_type": "markdown",
   "id": "753f3937",
   "metadata": {},
   "source": [
    "### <span style=\"color:green\">Task 1</span>\n",
    "\n",
    "Пусть имеется выборка $X_1,...,X_n$, где $X_i \\sim U(\\theta, \\theta+1)$.\n",
    "\n",
    "В качестве состоятельной и несмещённой оценки параметра $\\theta$ можно взять $\\overline{X}-\\frac{1}{2}$. Действительно:\n",
    "\n",
    "$$\\mathbb{E}\\left[\\overline{X}-\\frac{1}{2}\\right] = \\mathbb{E}X_i - \\frac{1}{2} = \\frac{\\theta + \\theta + 1}{2}-\\frac{1}{2} = \\theta$$\n",
    "\n",
    "$$\\mathbb{D}\\left[\\overline{X}-\\frac{1}{2}\\right] = \\mathbb{D}\\left[\\overline{X}\\right] = \\frac{\\mathbb{D} X_i}{n} = \\frac{\\left(\\theta + 1 - \\theta\\right)^2}{12n} \\xrightarrow[n \\to \\infty]{}0$$\n",
    "\n",
    "Так как у данного распределения конечная дисперсия, то $\\overline{X}$ является асимптотически нормальной оценкой математического ожидания, то есть:\n",
    "\n",
    "$$\\sqrt{n}\\left(\\overline{X} - \\left(\\theta +\\frac{1}{2}\\right)\\right) \\sim N\\left(0, \\sigma^2\\left(\\theta +\\frac{1}{2}\\right)\\right)$$\n",
    "\n",
    "Очевидно тогда, что:\n",
    "\n",
    "$$\\sqrt{n}\\left(\\left(\\overline{X}-\\frac{1}{2}\\right) - \\theta\\right) \\sim N\\left(0, \\sigma^2\\left(\\theta\\right)\\right)$$"
   ]
  },
  {
   "cell_type": "markdown",
   "id": "694533f9",
   "metadata": {},
   "source": [
    "### <span style=\"color:green\">Task 2</span>\n",
    "\n",
    "Имеем выборку $\\mathbb{X} = (98, 102, 114, 86, 79, 94, 99, 101, 107, 105, 98, 111, 100, 93)$ из распределения Пуассона. Построим методом наибольшего правдоподобия оценку параметра $\\lambda$ и покажем, что она является эффективной.\n",
    "\n",
    "Сперва посчитаем количество и  сумму элементов в выборке:"
   ]
  },
  {
   "cell_type": "code",
   "execution_count": 3,
   "id": "f65e4379",
   "metadata": {},
   "outputs": [
    {
     "data": {
      "text/plain": [
       "14"
      ]
     },
     "execution_count": 3,
     "metadata": {},
     "output_type": "execute_result"
    }
   ],
   "source": [
    "X = (98, 102, 114, 86, 79, 94, 99, 101, 107, 105, 98, 111, 100, 93)\n",
    "\n",
    "len(X)"
   ]
  },
  {
   "cell_type": "code",
   "execution_count": 4,
   "id": "0c5d3a35",
   "metadata": {},
   "outputs": [
    {
     "data": {
      "text/plain": [
       "1387"
      ]
     },
     "execution_count": 4,
     "metadata": {},
     "output_type": "execute_result"
    }
   ],
   "source": [
    "sum(X)"
   ]
  },
  {
   "cell_type": "markdown",
   "id": "3b63e377",
   "metadata": {},
   "source": [
    "Затем выведем функцию правдоподобия:\n",
    "\n",
    "$$\\mathcal{L}(\\mathbb{X}, \\lambda) = \\frac{\\lambda^{1387}}{98!102!...93!}e^{-14\\lambda}$$\n",
    "\n",
    "Затем посчитаем информанту первого порядка и решим уравнение правдоподобия:\n",
    "\n",
    "$$U_I(\\mathbb{X}, \\lambda) = \\frac{\\partial\\ln\\mathcal{L}(\\mathbb{X}, \\lambda)}{\\partial\\lambda} = \\frac{\\ln\\left(\\frac{1}{98!102!...93!}\\right)+1387\\ln\\lambda - 14\\lambda}{\\partial\\lambda} = \\frac{1387}{\\lambda} - 14 = 0 \\Rightarrow \\hat{\\lambda} = \\frac{1387}{14}$$\n",
    "\n",
    "В итоге в качестве оценки получили выборочное среднее. Как известно, оно является эффективной оценкой параметра $\\lambda$ для распределения Пуассона."
   ]
  },
  {
   "cell_type": "markdown",
   "id": "c607d4ea",
   "metadata": {},
   "source": [
    "### <span style=\"color:orange\">Task 3</span>\n",
    "\n",
    "Докажем несмещённость исправленной выборочной дисперсии:\n",
    "\n",
    "$$\\mathbb{E}S^2 = \\frac{1}{n-1}\\mathbb{E}\\left[\\sum_{i=1}^n\\left(X_i-\\overline{X}\\right)^2\\right] = \\frac{1}{n-1}\\mathbb{E}\\left[\\sum_{i=1}^nX_i^2-2\\overline{X}\\sum_{i=1}^nX_i+n\\overline{X}^2\\right] = \\frac{1}{n-1}\\mathbb{E}\\left[\\sum_{i=1}^nX_i^2-n\\overline{X}^2\\right] = \\frac{1}{n-1}\\sum_{i=1}^n\\mathbb{E}X_i^2 - \\frac{n}{n-1}\\mathbb{E}\\overline{X}^2 = \\frac{n}{n-1}\\left(\\mathbb{E}X^2-\\frac{1}{n^2}\\mathbb{E}\\left(\\sum_{i=1}^nX_i\\right)^2\\right) = \\frac{n}{n-1}\\left(\\mathbb{E}X^2-\\frac{1}{n^2}\\left(n\\mathbb{E}X^2+n(n-1)\\left(\\mathbb{E}X\\right)^2\\right)\\right) = \\mathbb{D}X$$\n",
    "\n",
    "Докажем состоятельность исправленной выборочной дисперсии:\n",
    "\n",
    "$$\\mathbb{D}S^2 = \\frac{1}{(n-1)^2}\\mathbb{D}\\left[\\sum_{i=1}^n\\left(X_i-\\overline{X}\\right)^2\\right]$$"
   ]
  }
 ],
 "metadata": {
  "kernelspec": {
   "display_name": "Python 3 (ipykernel)",
   "language": "python",
   "name": "python3"
  },
  "language_info": {
   "codemirror_mode": {
    "name": "ipython",
    "version": 3
   },
   "file_extension": ".py",
   "mimetype": "text/x-python",
   "name": "python",
   "nbconvert_exporter": "python",
   "pygments_lexer": "ipython3",
   "version": "3.10.0"
  }
 },
 "nbformat": 4,
 "nbformat_minor": 5
}
