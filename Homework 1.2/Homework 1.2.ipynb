{
 "cells": [
  {
   "cell_type": "markdown",
   "id": "753f3937",
   "metadata": {},
   "source": [
    "### <span style=\"color:green\">Task 1</span>\n",
    "\n",
    "Пусть имеется выборка $X_1,...,X_n$, где $X_i \\sim U(\\theta, \\theta+1)$.\n",
    "\n",
    "В качестве состоятельной и несмещённой оценки параметра $\\theta$ можно взять $\\overline{X}-\\frac{1}{2}$. Действительно:\n",
    "\n",
    "$$\\mathbb{E}\\left[\\overline{X}-\\frac{1}{2}\\right] = \\mathbb{E}X_i - \\frac{1}{2} = \\frac{\\theta + \\theta + 1}{2}-\\frac{1}{2} = \\theta$$\n",
    "\n",
    "$$\\mathbb{D}\\left[\\overline{X}-\\frac{1}{2}\\right] = \\mathbb{D}\\left[\\overline{X}\\right] = \\frac{\\mathbb{D} X_i}{n} = \\frac{\\left(\\theta + 1 - \\theta\\right)^2}{12n} \\xrightarrow[n \\to \\infty]{}0$$\n",
    "\n",
    "Так как у данного распределения конечная дисперсия, то $\\overline{X}$ является асимптотически нормальной оценкой математического ожидания, то есть:\n",
    "\n",
    "$$\\sqrt{n}\\left(\\overline{X} - \\left(\\theta +\\frac{1}{2}\\right)\\right) \\sim N\\left(0, \\sigma^2\\left(\\theta +\\frac{1}{2}\\right)\\right)$$\n",
    "\n",
    "Очевидно тогда, что:\n",
    "\n",
    "$$\\sqrt{n}\\left(\\left(\\overline{X}-\\frac{1}{2}\\right) - \\theta\\right) \\sim N\\left(0, \\sigma^2\\left(\\theta\\right)\\right)$$"
   ]
  },
  {
   "cell_type": "markdown",
   "id": "694533f9",
   "metadata": {},
   "source": [
    "### <span style=\"color:green\">Task 2</span>\n",
    "\n",
    "Имеем выборку $\\mathbb{X} = (98, 102, 114, 86, 79, 94, 99, 101, 107, 105, 98, 111, 100, 93)$ из распределения Пуассона. Построим методом наибольшего правдоподобия оценку параметра $\\lambda$ и покажем, что она является эффективной.\n",
    "\n",
    "Сперва посчитаем количество и  сумму элементов в выборке:"
   ]
  },
  {
   "cell_type": "code",
   "execution_count": 3,
   "id": "f65e4379",
   "metadata": {},
   "outputs": [
    {
     "data": {
      "text/plain": [
       "14"
      ]
     },
     "execution_count": 3,
     "metadata": {},
     "output_type": "execute_result"
    }
   ],
   "source": [
    "X = (98, 102, 114, 86, 79, 94, 99, 101, 107, 105, 98, 111, 100, 93)\n",
    "\n",
    "len(X)"
   ]
  },
  {
   "cell_type": "code",
   "execution_count": 4,
   "id": "0c5d3a35",
   "metadata": {},
   "outputs": [
    {
     "data": {
      "text/plain": [
       "1387"
      ]
     },
     "execution_count": 4,
     "metadata": {},
     "output_type": "execute_result"
    }
   ],
   "source": [
    "sum(X)"
   ]
  },
  {
   "cell_type": "markdown",
   "id": "3b63e377",
   "metadata": {},
   "source": [
    "Затем выведем функцию правдоподобия:\n",
    "\n",
    "$$\\mathcal{L}(\\mathbb{X}, \\lambda) = \\frac{\\lambda^{1387}}{98!102!...93!}e^{-14\\lambda}$$\n",
    "\n",
    "Затем посчитаем информанту первого порядка и решим уравнение правдоподобия:\n",
    "\n",
    "$$U_I(\\mathbb{X}, \\lambda) = \\frac{\\partial\\ln\\mathcal{L}(\\mathbb{X}, \\lambda)}{\\partial\\lambda} = \\frac{\\partial\\left(\\ln\\left(\\frac{1}{98!102!...93!}\\right)+1387\\ln\\lambda - 14\\lambda\\right)}{\\partial\\lambda} = \\frac{1387}{\\lambda} - 14 = 0 \\Rightarrow \\hat{\\lambda} = \\frac{1387}{14}$$\n",
    "\n",
    "В итоге в качестве оценки получили выборочное среднее. Как известно, оно является эффективной оценкой параметра $\\lambda$ для распределения Пуассона."
   ]
  },
  {
   "cell_type": "markdown",
   "id": "c607d4ea",
   "metadata": {},
   "source": [
    "### <span style=\"color:green\">Task 3</span>\n",
    "\n",
    "Докажем несмещённость исправленной выборочной дисперсии:\n",
    "\n",
    "$$\\mathbb{E}S^2 = \\frac{1}{n-1}\\mathbb{E}\\left[\\sum_{i=1}^n\\left(X_i-\\overline{X}\\right)^2\\right] = \\frac{1}{n-1}\\mathbb{E}\\left[\\sum_{i=1}^nX_i^2-2\\overline{X}\\sum_{i=1}^nX_i+n\\overline{X}^2\\right] = \\frac{1}{n-1}\\mathbb{E}\\left[\\sum_{i=1}^nX_i^2-n\\overline{X}^2\\right] = \\frac{1}{n-1}\\sum_{i=1}^n\\mathbb{E}X_i^2 - \\frac{n}{n-1}\\mathbb{E}\\overline{X}^2 = \\frac{n}{n-1}\\left(\\mathbb{E}X^2-\\frac{1}{n^2}\\mathbb{E}\\left(\\sum_{i=1}^nX_i\\right)^2\\right) = \\frac{n}{n-1}\\left(\\mathbb{E}X^2-\\frac{1}{n^2}\\left(n\\mathbb{E}X^2+n(n-1)\\left(\\mathbb{E}X\\right)^2\\right)\\right) = \\mathbb{D}X$$\n",
    "\n",
    "Докажем состоятельность исправленной выборочной дисперсии. Для этого воспользуемся тем, что наша модель представляет собой модель нормального распределения. Тогда:\n",
    "\n",
    "$$(n-1)\\frac{S^2}{\\theta_2} \\sim \\chi^2(n-1) \\Rightarrow \\mathbb{D}\\left[(n-1)\\frac{S^2}{\\theta_2}\\right] = \\frac{(n-1)^2}{\\theta_2^2}\\mathbb{D}S^2 = 2(n-1) \\Rightarrow \\mathbb{D}S^2 = \\frac{2\\theta_2^2}{(n-1)} \\xrightarrow[n \\to \\infty]{} 0 $$"
   ]
  },
  {
   "cell_type": "markdown",
   "id": "edcb3bee",
   "metadata": {},
   "source": [
    "### <span style=\"color:orange\">Task 4</span>\n",
    "\n",
    "Функция правдоподобия:\n",
    "\n",
    "$$\\mathcal{L}(\\mathbb{X}, \\theta) = \\prod_{i=1}^n f(X_i, \\theta)$$\n",
    "\n",
    "Информанта первого порядка:\n",
    "\n",
    "$$U_I(\\mathbb{X}, \\theta) = \\frac{\\partial\\ln\\mathcal{L}(\\mathbb{X}, \\theta)}{\\partial\\theta} = \\frac{\\partial\\left(\\sum_{i=1}^n\\ln f(X_i, \\theta)\\right)}{\\partial\\theta} = \\sum_{i=1}^n \\frac{\\partial\\ln f(X_i, \\theta)}{\\partial\\theta}$$\n",
    "\n",
    "Информационное количество Фишера:\n",
    "\n",
    "$$I_n(\\theta) = \\mathbb{E}_\\theta U_I^2(\\mathbb{X}, \\theta) = \\mathbb{E}_\\theta\\left(\\sum_{i=1}^n \\frac{\\partial\\ln f(X_i, \\theta)}{\\partial\\theta}\\right)^2$$"
   ]
  },
  {
   "cell_type": "markdown",
   "id": "f4d8b100",
   "metadata": {},
   "source": [
    "### <span style=\"color:orange\">Task 5 (a)</span>\n",
    "\n",
    "Функция правдоподобия:\n",
    "\n",
    "$$\\mathcal{L}(\\mathbb{X}, \\theta) = \\frac{1}{\\left(\\sqrt{2\\pi\\theta}\\right)^n}e^{-\\frac{\\sum_{i=1}^n \\left(X_i-\\mu\\right)^2}{2\\theta}}$$\n",
    "\n",
    "Информанта второго порядка:\n",
    "\n",
    "$$U_{II}(\\mathbb{X}, \\theta) = \\frac{\\partial^2\\ln\\mathcal{L}(\\mathbb{X}, \\theta)}{\\partial\\theta^2} = \\frac{\\partial^2\\left(-\\frac{n}{2}\\ln\\left(2\\pi\\theta\\right)-\\frac{1}{2\\theta}\\sum_{i=1}^n \\left(X_i-\\mu\\right)^2\\right)}{\\partial\\theta^2} = \\frac{n}{2\\theta^2}-\\frac{1}{\\theta^3}\\sum_{i=1}^n \\left(X_i-\\mu\\right)^2$$\n",
    "\n",
    "Информационное количество Фишера:\n",
    "\n",
    "$$I_n(\\theta) = -\\mathbb{E}_\\theta U_{II}(\\mathbb{X}, \\theta) = -\\mathbb{E}_\\theta\\left[\\frac{n}{2\\theta^2}-\\frac{1}{\\theta^3}\\sum_{i=1}^n \\left(X_i-\\mu\\right)^2\\right] = \\frac{1}{\\theta^3}\\mathbb{E}_\\theta\\sum_{i=1}^n \\left(X_i-\\mu\\right)^2-\\frac{n}{2\\theta^2} = \\frac{1}{\\theta^3}\\sum_{i=1}^n \\left(\\mathbb{E}_\\theta X_i^2 - 2\\mu\\mathbb{E}X_i + \\mu^2\\right)-\\frac{n}{2\\theta^2} = \\frac{1}{\\theta^3}\\left(n\\left(\\mu^2+\\theta\\right)-2n\\mu^2+n\\mu^2\\right)-\\frac{n}{2\\theta^2} = \\frac{n}{2\\theta^2}$$\n",
    "\n",
    "Тогда по определению дисперсия эффективной оценки должна быть равна $\\frac{2\\theta^2}{n}$. Можно показать, что это выполняется для оценки $\\hat{\\theta}=\\frac{1}{n}\\sum_{i=1}^n \\left(X_i-\\mu\\right)^2$:\n",
    "\n",
    "$$\\mathbb{D}\\hat{\\theta} = \\frac{1}{n^2}\\mathbb{D}\\sum_{i=1}^n \\left(X_i-\\mu\\right)^2 =\\frac{1}{n}\\mathbb{D}\\left(X_1-\\mu\\right)^2 = \\frac{1}{n}\\mathbb{E}\\left[\\left(\\left(X_1-\\mu\\right)^2-\\mathbb{E}\\left(X_1-\\mu\\right)^2\\right)^2\\right] = \\frac{1}{n}\\mathbb{E}\\left(\\left(X_1-\\mu\\right)^2-\\theta\\right)^2 = \\frac{1}{n}\\mathbb{E}\\left(X_1^2-2\\mu X_1 + \\mu^2-\\theta\\right)^2 = \\frac{1}{n}\\mathbb{E}\\left(\\mu^4 - 4 \\mu^3 X_1 - 2 \\mu^2 \\theta + 6 \\mu^2 X_1^2 + 4 \\mu \\theta X_1 - 4 \\mu X_1^3 + \\theta^2 - 2 \\theta X_1^2 + X_1^4\\right) = \\frac{1}{n}\\left(2\\mu^4+6\\mu^2\\theta-\\theta^2 + 3\\theta^4\\right)$$"
   ]
  }
 ],
 "metadata": {
  "kernelspec": {
   "display_name": "Python 3 (ipykernel)",
   "language": "python",
   "name": "python3"
  },
  "language_info": {
   "codemirror_mode": {
    "name": "ipython",
    "version": 3
   },
   "file_extension": ".py",
   "mimetype": "text/x-python",
   "name": "python",
   "nbconvert_exporter": "python",
   "pygments_lexer": "ipython3",
   "version": "3.10.0"
  }
 },
 "nbformat": 4,
 "nbformat_minor": 5
}