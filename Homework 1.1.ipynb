{
 "cells": [
  {
   "cell_type": "markdown",
   "id": "5df51e1d",
   "metadata": {},
   "source": [
    "### Task 1\n",
    "\n",
    "По определению 2: $ F_n(x) = \\frac{\\eta_n(x)}{n} = \\frac{\\sum_{i=1}^n \\mathbb{1}(X_i \\le x)}{n}$"
   ]
  }
 ],
 "metadata": {
  "kernelspec": {
   "display_name": "Python 3 (ipykernel)",
   "language": "python",
   "name": "python3"
  },
  "language_info": {
   "codemirror_mode": {
    "name": "ipython",
    "version": 3
   },
   "file_extension": ".py",
   "mimetype": "text/x-python",
   "name": "python",
   "nbconvert_exporter": "python",
   "pygments_lexer": "ipython3",
   "version": "3.10.0"
  }
 },
 "nbformat": 4,
 "nbformat_minor": 5
}
