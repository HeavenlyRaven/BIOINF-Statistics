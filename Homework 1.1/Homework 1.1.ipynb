{
 "cells": [
  {
   "cell_type": "markdown",
   "id": "5df51e1d",
   "metadata": {},
   "source": [
    "### <span style=\"color:green\">Task 1</span>\n",
    "\n",
    "По определению 2: $ F_n(x) = \\frac{\\eta_n(x)}{n} = \\frac{\\sum_{i=1}^n \\mathbb{1}(X_i \\le x)}{n}$, где $\\mathbb{1}(X_i \\le x)$ — индикаторные случайные величины для события $X_i \\le x$.\n",
    "Распределены эти индикаторные с. в., очевидно, по закону Бернулли: $\\mathbb{1}(X_i \\le x) \\sim Bern(F(x))$, где $F(x)$ — функция распределения $X_i$. При этом сумма из $n$ независимых копий таких случайных величин будет уже иметь биномиальное распределение с параметрами $n$ и $F(x)$, то есть $\\eta_n(x) \\sim Bin(n, F(x))$ с носителем $\\{0,1,...,n\\} \\Rightarrow  F_n(x) \\sim Bin(n, F(x))$ с носителем $\\{0, \\frac{1}{n}, ...,1\\}$\n",
    "\n",
    "Математическое ожидание ЭФР: $$\\mathbb{E} F_n(x) = \\mathbb{E}\\left[\\frac{1}{n}\\eta_n(x)\\right] = \\frac{1}{n}\\mathbb{E}\\eta_n(x) = \\frac{1}{n}nF(x) = F(x)$$\n",
    "\n",
    "Дисперсия ЭФР: $$\\mathbb{D}F_n(x) = \\mathbb{D}\\left[\\frac{1}{n}\\eta_n(x)\\right] = \\frac{1}{n^2}\\mathbb{D}\\eta_n(x) = \\frac{1}{n^2}nF(x)(F(x)-1) = \\frac{F(x)(F(x)-1)}{n}$$"
   ]
  },
  {
   "cell_type": "markdown",
   "id": "0cc16fa3",
   "metadata": {},
   "source": [
    "### <span style=\"color:green\">Task 2</span>\n",
    "\n",
    "Используем одну из формулировок неравенства Чебышёва:\n",
    "\n",
    "Пусть с. в. $X$ имеет конечные мат. ожидание и дисперсию. Тогда $\\forall \\varepsilon > 0$ выполнено неравенство:\n",
    "\n",
    "$$P(|X-\\mathbb{E}X| < \\varepsilon) \\ge 1 - \\frac{\\mathbb{D}X}{\\varepsilon^2}$$\n",
    "\n",
    "Возьмем в качестве $X$ нашу ЭФР (напомним, что по второму определению это случайная величина!):\n",
    "\n",
    "$$P(|F_n(x)-F(x)| < \\varepsilon) \\ge 1 -  \\frac{F(x)(F(x)-1)}{n\\varepsilon^2}$$\n",
    "\n",
    "Заметим, что при $n \\to \\infty$ правая часть неравенства стремится к единице. Учитывая, что вероятность не может быть больше единицы, получаем:\n",
    "\n",
    "$$ \\lim_{n\\to\\infty} P(|F_n(x)-F(x)| < \\varepsilon) = 1 $$"
   ]
  },
  {
   "cell_type": "markdown",
   "id": "577299cd",
   "metadata": {},
   "source": [
    "### <span style=\"color:green\">Task 3</span>\n",
    "\n",
    "По определению ковариации:\n",
    "\n",
    "$$cov(F_n(x_1), F_n(x_2)) = \\mathbb{E}\\left[(F_n(x_1)-F(x_1))(F_n(x_2)-F(x_2))\\right] = \\frac{1}{n^2}\\mathbb{E}\\left[\\left(\\sum_{i=1}^n \\mathbb{1}(X_i \\le x_1) - nF(x_1)\\right)\\left(\\sum_{i=1}^n \\mathbb{1}(X_i \\le x_2) - nF(x_2)\\right)\\right] = \\frac{1}{n^2}\\mathbb{E}\\left[\\sum_{i=1}^n \\mathbb{1}(X_i \\le x_1)\\sum_{i=1}^n \\mathbb{1}(X_i \\le x_2) - nF(x_1)\\sum_{i=1}^n \\mathbb{1}(X_i \\le x_2) - nF(x_2)\\sum_{i=1}^n \\mathbb{1}(X_i \\le x_1) + n^2F(x_1)F(x_2)\\right] = \\frac{1}{n^2}\\mathbb{E}\\left[\\sum_{i=1}^n \\mathbb{1}(X_i \\le x_1)\\sum_{i=1}^n \\mathbb{1}(X_i \\le x_2)\\right] - \\frac{F(x_1)}{n}\\mathbb{E}\\left[\\sum_{i=1}^n \\mathbb{1}(X_i \\le x_2)\\right] - \\frac{F(x_2)}{n}\\mathbb{E}\\left[\\sum_{i=1}^n \\mathbb{1}(X_i \\le x_1)\\right] + F(x_1)F(x_2) = \\frac{1}{n^2}\\mathbb{E}\\left[\\sum_{i=1}^n \\mathbb{1}(X_i \\le x_1)\\sum_{i=1}^n \\mathbb{1}(X_i \\le x_2)\\right] - F(x_1)F(x_2) = \\frac{1}{n^2}\\mathbb{E}\\left[\\sum_{i=1}^n \\mathbb{1}(X_i \\le x_1)\\mathbb{1}(X_i \\le x_2) + \\sum_{i=1, j=1, i\\ne j}^n \\mathbb{1}(X_i \\le x_1)\\mathbb{1}(X_j \\le x_2)\\right]- F(x_1)F(x_2) = \\frac{F(x_1)}{n} + \\frac{1}{n^2}\\mathbb{E}\\left[\\sum_{i=1, j=1, i\\ne j}^n \\mathbb{1}(X_i \\le x_1)\\mathbb{1}(X_j \\le x_2)\\right]- F(x_1)F(x_2) = \\frac{F(x_1)}{n} + \\frac{n(n-1)}{n^2}F(x_1)F(x_2) - F(x_1)F(x_2) = \\frac{F(x_1)\\left(1-F(x_2)\\right)}{n}$$\n",
    "\n",
    "Пояснение последнего преобразования: в силу независимости наблюдений в выборке, раскрываем сумму, используя свойство мат. ожидания произведения случайных величин (количество слагаемых при этом будет равно $n^2 - n = n(n-1)$, ну или, что то же самое, числу размещений из $n$ по $2$)."
   ]
  },
  {
   "cell_type": "markdown",
   "id": "05552c04",
   "metadata": {},
   "source": [
    "### <span style=\"color:green\">Task 4</span>\n",
    "\n",
    "Среднее арифметическое выборки по определению 2:\n",
    "\n",
    "$$\\overline{X} = \\frac{1}{n}\\sum_{i=1}^n X_i$$\n",
    "\n",
    "Математическое ожидание $\\overline{X}$:\n",
    "\n",
    "$$\\mathbb{E}\\overline{X} = \\frac{1}{n}\\mathbb{E}\\left[\\sum_{i=1}^n X_i\\right] = \\frac{1}{n}\\sum_{i=1}^n \\mathbb{E}X_i = \\mathbb{E}X,$$ \n",
    "\n",
    "где $X$ — с.в., распределённая так же, как с.в. из выборки.\n",
    "\n",
    "Дисперсия $\\overline{X}$:\n",
    "\n",
    "$$\\mathbb{D}\\overline{X} = \\frac{1}{n^2}\\mathbb{D}\\left[\\sum_{i=1}^n X_i\\right] = \\frac{1}{n^2}\\sum_{i=1}^n \\mathbb{D}X_i = \\frac{\\mathbb{D}X}{n},$$\n",
    "\n",
    "где $X$ — с.в., распределённая так же, как с.в. из выборки. Здесь мы также воспользовались свойством дисперсии суммы независимых случайных величин."
   ]
  },
  {
   "cell_type": "markdown",
   "id": "d5f5f094",
   "metadata": {},
   "source": [
    "### <span style=\"color:green\">Task 5</span>\n",
    "\n",
    "Имеем вариационный ряд, построенный по исходной выборке:\n",
    "\n",
    "$$X_{(1)} \\le X_{(2)} \\le ... \\le X_{(n)}$$\n",
    "\n",
    "Найдём функцию распределения $k$-ой порядковой статистики $(k \\in {1,...,n})$:\n",
    "\n",
    "$$F_{(k)}(x) = P(X_{(k)} \\le x)$$\n",
    "\n",
    "По факту мы должны найти вероятность того, что у нас как минимум $k$ значений выборки будут меньше или равны $x$. \n",
    "\n",
    "Сразу на ум, конечно же, приходит формула для схемы Бернулли (все события вида $X_i \\le x$ независимы, и вероятность \"успеха\" в каждом из них одинакова и равна $F(x)$), которую мы помещаем под сумму от $k$ до $n$, потому как, опять же, нас интересуют **как минимум** $k$ знчений выборки, меньших или равных $x$.\n",
    "\n",
    "Таким образом:\n",
    "\n",
    "$$F_{(k)}(x) = \\sum_{i=k}^nC_{n}^iP(X \\le x)^i\\left(1-P(X \\le x)\\right)^{n-i} = \\sum_{i=k}^nC_{n}^iF(x)^i\\left(1-F(x)\\right)^{n-i}$$"
   ]
  },
  {
   "cell_type": "markdown",
   "id": "0d93bd90",
   "metadata": {},
   "source": [
    "### <span style=\"color:orange\">Task 6</span>\n",
    "\n",
    "Сходимость по вероятности исходных с.в.:\n",
    "\n",
    "$$\\forall i \\in \\{1,...,r\\}~\\eta_i(n) \\xrightarrow{p} c_i \\Leftrightarrow \\forall i \\in \\{1,...,r\\}~\\forall \\varepsilon > 0~\\forall \\delta \\in (0,1]~\\exists n_i:\\forall N_i > n_i~P\\left(\\eta_i(N_i) \\in \\left[c_i-\\varepsilon, c_i+\\varepsilon\\right]\\right) \\ge \\delta$$\n",
    "\n",
    "Потребуем одновременное выполение всех $r$ условий путём взятия максимально большого $n = \\max\\{n_1,...,n_r\\}$:\n",
    "\n",
    "$$\\forall i \\in \\{1,...,r\\}~\\forall \\varepsilon > 0~\\forall \\delta \\in (0,1]~\\exists n:\\forall N > n~P\\left(|\\eta_i(N) - c_i | \\le \\varepsilon \\right) \\ge \\delta$$\n",
    "\n",
    "Непрерывность функции $\\varphi$ в точке $\\left(c_1,...,c_r\\right)$ в области определения $D \\subset \\mathbb{R}^r$:\n",
    "\n",
    "$$\\forall \\varepsilon' > 0~\\exists \\delta' > 0: \\forall (x_1,...,x_r) \\in D~||\\left(x_1,...,x_r\\right) - \\left(c_1,...,c_r\\right)|| < \\delta' \\Rightarrow |\\varphi\\left(x_1,...,x_r\\right) - \\varphi\\left(c_1,...,c_r\\right)| < \\varepsilon'$$\n",
    "\n",
    "Используем следующее выражение (легко доказывается для нормы \"бесконечность\", например):\n",
    "\n",
    "$$||\\left(x_1,...,x_r\\right) - \\left(c_1,...,c_r\\right)|| < \\delta' \\Rightarrow \\forall i \\in \\{1,...,r\\}~|x_i-c_i| < \\delta'$$"
   ]
  },
  {
   "cell_type": "markdown",
   "id": "a902dde6",
   "metadata": {},
   "source": [
    "### <span style=\"color:orange\">Task 7</span>\n",
    "\n",
    "(a) Пусть $A_{i,j}$ — число способов набрать $i$ баллов за $j$ недель. Тогда искомая вероятность:\n",
    "\n",
    "$$P = \\frac{\\sum_{i=20 \\cdot 12 \\cdot 0.65}^{20\\cdot12} A_{i, 12}}{\\sum_{i=0}^{20\\cdot12} A_{i, 12}}$$\n",
    "\n",
    "Рекурсивная формула для подсчёта $A_{i,j}$ для $j>1$ (все $A_{i,1} = 1$, а также все $A_{i,j} = 0$, где $i > 20j$):\n",
    "\n",
    "$$A_{i,j} = \\sum_{k=0}^{\\min(i, 20)} A_{i-k, j-1}$$"
   ]
  },
  {
   "cell_type": "code",
   "execution_count": null,
   "id": "5c60ed53",
   "metadata": {},
   "outputs": [],
   "source": [
    "def A(i, j):\n",
    "    if j == 1:\n",
    "        return 1\n",
    "    elif i > 20*j:\n",
    "        return 0\n",
    "    else:\n",
    "        return sum((A(i-k, j-1) for k in range(min(i, 20))))\n",
    "\n",
    "\n",
    "P0 = sum((A(i, 12) for i in range(156)))\n",
    "P1 = sum((A(i, 12) for i in range(156, 241)))\n",
    "\n",
    "P = P0/(P0+P1)"
   ]
  },
  {
   "cell_type": "markdown",
   "id": "a26882e4",
   "metadata": {},
   "source": [
    "(b) Воспользуемся известным свойством биномиального распределения:\n",
    "\n",
    "$$X_1 \\sim Bin(n_1, p),~X_2 \\sim Bin(n_2, p) \\Rightarrow X_1 + X_2 \\sim Bin(n_1+n_2, p)$$\n",
    "\n",
    "Таким образом, случайная величина, равная количеству баллов в конце курса, будет иметь следующее распределение:\n",
    "\n",
    "$$Y = \\sum_{i=1}^{12} X_i \\sim Bin(20 \\cdot 12, p)$$\n",
    "\n",
    "Тогда:\n",
    "\n",
    "$$P(Y \\ge 240 \\cdot 0.65) = \\sum_{i=156}^{240} P(Y = i) = \\sum_{i=156}^{240} C_{240}^i p^i (1-p)^{240-i}$$"
   ]
  },
  {
   "cell_type": "markdown",
   "id": "3b9586ae",
   "metadata": {},
   "source": [
    "### <span style=\"color:green\">Task 8</span>\n",
    "\n",
    "Воспользуемся языком Python и модулем statistics:"
   ]
  },
  {
   "cell_type": "code",
   "execution_count": 25,
   "id": "39a0078b",
   "metadata": {},
   "outputs": [],
   "source": [
    "from statistics import fmean, median, mode\n",
    "\n",
    "sample1 = []  # данные по первому признаку\n",
    "sample2 = []  # данные по второму признаку\n",
    "weighted_sample1 = []  # взвешенные данные по первому признаку\n",
    "weights = []  # данные весов\n",
    "weight_dict = {'A': 1, 'B': 0.7, 'C': 0.3}  # словарь весов\n",
    "weight_sum = 0.0  # сумма весов\n",
    "with open(\"IB_statistics_data_HW1.1.txt\", 'r') as data:\n",
    "    # убираем заголовок и читаем данные\n",
    "    for line in data.readlines()[1:]:\n",
    "        str_attr1, attr2 = line.split()\n",
    "        attr1 = float(str_attr1)\n",
    "        sample1.append(attr1)\n",
    "        sample2.append(attr2)\n",
    "        weight = weight_dict[attr2]\n",
    "        weights.append(weight)\n",
    "        weighted_sample1.append(attr1*weight)\n",
    "        weight_sum += weight\n",
    "\n",
    "# усечение данных для первого признака по 10% крайних значений\n",
    "n = len(sample1)\n",
    "d = round(0.1*n)\n",
    "truncated_sample1 = sorted(sample1)[d:n-d]"
   ]
  },
  {
   "cell_type": "markdown",
   "id": "2f6ab97a",
   "metadata": {},
   "source": [
    "Среднее для первого признака:"
   ]
  },
  {
   "cell_type": "code",
   "execution_count": 26,
   "id": "27880053",
   "metadata": {},
   "outputs": [
    {
     "data": {
      "text/plain": [
       "24.002634917154634"
      ]
     },
     "execution_count": 26,
     "metadata": {},
     "output_type": "execute_result"
    }
   ],
   "source": [
    "fmean(sample1)"
   ]
  },
  {
   "cell_type": "markdown",
   "id": "f589f794",
   "metadata": {},
   "source": [
    "Медиана для первого признака:"
   ]
  },
  {
   "cell_type": "code",
   "execution_count": 27,
   "id": "56a84ae8",
   "metadata": {},
   "outputs": [
    {
     "data": {
      "text/plain": [
       "-0.0284287284316686"
      ]
     },
     "execution_count": 27,
     "metadata": {},
     "output_type": "execute_result"
    }
   ],
   "source": [
    "median(sample1)"
   ]
  },
  {
   "cell_type": "markdown",
   "id": "b5f900f4",
   "metadata": {},
   "source": [
    "Мода для второго признака:"
   ]
  },
  {
   "cell_type": "code",
   "execution_count": 28,
   "id": "c06f1a44",
   "metadata": {},
   "outputs": [
    {
     "data": {
      "text/plain": [
       "'C'"
      ]
     },
     "execution_count": 28,
     "metadata": {},
     "output_type": "execute_result"
    }
   ],
   "source": [
    "mode(sample2)"
   ]
  },
  {
   "cell_type": "markdown",
   "id": "f5dcd90e",
   "metadata": {},
   "source": [
    "Усечённое среднее для первого признака:"
   ]
  },
  {
   "cell_type": "code",
   "execution_count": 29,
   "id": "42119739",
   "metadata": {},
   "outputs": [
    {
     "data": {
      "text/plain": [
       "0.017878709933733087"
      ]
     },
     "execution_count": 29,
     "metadata": {},
     "output_type": "execute_result"
    }
   ],
   "source": [
    "fmean(truncated_sample1)"
   ]
  },
  {
   "cell_type": "markdown",
   "id": "2c935d21",
   "metadata": {},
   "source": [
    "Усечённая медиана для первого признака (должна совпадать с неусечённой):"
   ]
  },
  {
   "cell_type": "code",
   "execution_count": 30,
   "id": "99ff2933",
   "metadata": {},
   "outputs": [
    {
     "data": {
      "text/plain": [
       "-0.0284287284316686"
      ]
     },
     "execution_count": 30,
     "metadata": {},
     "output_type": "execute_result"
    }
   ],
   "source": [
    "median(truncated_sample1)"
   ]
  },
  {
   "cell_type": "markdown",
   "id": "dc1bcc51",
   "metadata": {},
   "source": [
    "Взвешенное среднее для первого признака"
   ]
  },
  {
   "cell_type": "code",
   "execution_count": 31,
   "id": "1df97580",
   "metadata": {},
   "outputs": [
    {
     "data": {
      "text/plain": [
       "0.020546441181300352"
      ]
     },
     "execution_count": 31,
     "metadata": {},
     "output_type": "execute_result"
    }
   ],
   "source": [
    "fmean(weighted_sample1)/weight_sum"
   ]
  },
  {
   "cell_type": "markdown",
   "id": "2771464d",
   "metadata": {},
   "source": [
    "Взвешенная медиана для первого признака (используется сторонний модуль weightedstats)"
   ]
  },
  {
   "cell_type": "code",
   "execution_count": 39,
   "id": "d391e167",
   "metadata": {},
   "outputs": [
    {
     "data": {
      "text/plain": [
       "-0.0515331664332687"
      ]
     },
     "execution_count": 39,
     "metadata": {},
     "output_type": "execute_result"
    }
   ],
   "source": [
    "from weightedstats import weighted_median\n",
    "\n",
    "weighted_median(sample1, weights=weights)"
   ]
  }
 ],
 "metadata": {
  "kernelspec": {
   "display_name": "Python 3 (ipykernel)",
   "language": "python",
   "name": "python3"
  },
  "language_info": {
   "codemirror_mode": {
    "name": "ipython",
    "version": 3
   },
   "file_extension": ".py",
   "mimetype": "text/x-python",
   "name": "python",
   "nbconvert_exporter": "python",
   "pygments_lexer": "ipython3",
   "version": "3.10.0"
  }
 },
 "nbformat": 4,
 "nbformat_minor": 5
}