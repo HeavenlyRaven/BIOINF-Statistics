{
 "cells": [
  {
   "cell_type": "markdown",
   "metadata": {
    "collapsed": true
   },
   "source": [
    "### <span style=\"color:green\">Task 1</span>\n",
    "\n",
    "Данное утверждение входит в теорему Колмогорова. Докажем его. \n",
    "\n",
    "Пусть $|\\mathbb{X}| = n$. Построим вспомогательную выборку $\\mathbb{Y}$ следующим образом:\n",
    "\n",
    "$$\\forall i \\in \\{1,..,n\\}~Y_i = F(X_i)$$\n",
    "\n",
    "Тогда такие случайные величины будут независимыми и будут иметь равномерное непрерывное распределение $U(0, 1)$:\n",
    "\n",
    "$$\\forall y \\in (0, 1)~P(Y_i \\le y) = P(F(X_i) \\le y) = P(X_i \\le F^{-1}(y)) = F(F^{-1}(y)) = y,$$ где $F^{-1}(y) = min\\{t: F(t) = y\\}$.\n",
    "\n",
    "Теперь заметим, что с вероятностью $1$ для всех $x \\in \\mathbb{R}$\n",
    "$$\\mathbb{1}(X_i \\le x) = \\mathbb{1}(F(X_i) \\le F(x))$$\n",
    "\n",
    "Из этого с вероятностью $1$ будет выполняться:\n",
    "\n",
    "$$D_n = \\sup_x|F(x) - F_n(x)| = \\sup_x\\left|F(x) - \\frac{\\sum_{i=1}^n \\mathbb{1}(X_i \\le x)}{n}\\right| = \\sup_x\\left|F(x) - \\frac{\\sum_{i=1}^n \\mathbb{1}(Y_i \\le F(x))}{n}\\right| = \\sup_{y \\in (0, 1)}\\left|y - \\frac{\\sum_{i=1}^n \\mathbb{1}(Y_i \\le y)}{n}\\right|$$\n",
    "\n",
    "Наглядно видно, что распределение $D_n$ не зависит от $F$."
   ]
  },
  {
   "cell_type": "markdown",
   "metadata": {},
   "source": [
    "### <span style=\"color:green\">Task 2</span>\n",
    "\n",
    "Для тестирования гипотез воспользуемся встроенными функциями модуля *stats* библиотеки *scipy*:\n",
    "\n",
    "(a)"
   ]
  },
  {
   "cell_type": "code",
   "execution_count": 13,
   "metadata": {},
   "outputs": [
    {
     "name": "stdout",
     "output_type": "stream",
     "text": [
      "H0 is not rejected\n"
     ]
    }
   ],
   "source": [
    "import pandas as pd\n",
    "from scipy import stats\n",
    "\n",
    "\n",
    "def test_result(test, significance_level=0.05):\n",
    "    if test.pvalue <= significance_level:\n",
    "        print(\"H0 is rejected\")\n",
    "    else:\n",
    "        print(\"H0 is not rejected\")\n",
    "        \n",
    "\n",
    "data = pd.read_csv('IB_statistics_data_HW1.5.txt', sep=' ')\n",
    "\n",
    "test_result(stats.kstest(data['Ex2a'], stats.uniform.cdf, args=(0, 42)))"
   ]
  },
  {
   "cell_type": "markdown",
   "metadata": {},
   "source": [
    "(b)"
   ]
  },
  {
   "cell_type": "code",
   "execution_count": 14,
   "metadata": {},
   "outputs": [
    {
     "name": "stdout",
     "output_type": "stream",
     "text": [
      "H0 is rejected\n"
     ]
    }
   ],
   "source": [
    "test_result(stats.kstest(data['Ex2b'], stats.expon.cdf, args=(7,)))"
   ]
  },
  {
   "cell_type": "markdown",
   "metadata": {},
   "source": [
    "(c)"
   ]
  },
  {
   "cell_type": "code",
   "execution_count": 15,
   "metadata": {},
   "outputs": [
    {
     "name": "stdout",
     "output_type": "stream",
     "text": [
      "H0 is not rejected\n"
     ]
    }
   ],
   "source": [
    "test_result(stats.kstest(data['Ex2c'], stats.norm.cdf, args=(0, 1)))"
   ]
  },
  {
   "cell_type": "markdown",
   "metadata": {},
   "source": [
    "### <span style=\"color:green\">Task 3</span>"
   ]
  },
  {
   "cell_type": "markdown",
   "metadata": {},
   "source": [
    "(a) Биномиальный тест.\n",
    "\n",
    "Рассмотрим случай двусторонней критической области:\n",
    "\n",
    "$H_0: \\theta = 0.8\\\\H_1: \\theta \\ne 0.8$\n",
    "\n",
    "За статистику критерия возьмём $S_n = \\sum_{i=1}^n X_i \\sim Bin(n, \\theta)$ — число успехов в $n$ независимых испытаниях, где $n$ — размер выборки. Если нулевая гипотеза верна, то $\\mathbb{E}S_n = 0.8n$.\n",
    "\n",
    "Для рассчёта $p$-значения (вероятности получить такое же или более экстремальное значение статистики, по сравнению с ранее наблюдаемым, при условии, что нулевая гипотеза верна) воспользуемся следующей достаточно очевидной формулой:\n",
    "\n",
    "$$p = \\sum_{i \\in \\mathcal{I}} P(S_n = i|H_0),$$\n",
    "\n",
    "где $\\mathcal{I} = \\{i: P(S_n = i|H_0) \\le P(S_n=\\sum_{i=1}^n X_i|H_0)\\}$ — числа успехов, такие же или менее вероятные, чем наблюдаемое число успехов (по сути, сумма значений выборки) при условии, что нулевая гипотеза верна.\n",
    "\n",
    "Реализация данного теста есть во всём том же пакете *scipy*:"
   ]
  },
  {
   "cell_type": "code",
   "execution_count": 16,
   "metadata": {},
   "outputs": [
    {
     "name": "stdout",
     "output_type": "stream",
     "text": [
      "H0 is not rejected\n"
     ]
    }
   ],
   "source": [
    "X3a = data['Ex3a']\n",
    "\n",
    "test_result(stats.binomtest(sum(X3a), len(X3a), 0.8))"
   ]
  },
  {
   "cell_type": "markdown",
   "metadata": {},
   "source": [
    "(b) Биномиальный тест (?)\n",
    "\n",
    "Снова рассмотрим случай двусторонней критической области:\n",
    "\n",
    "$H_0: \\theta = 0.8\\\\H_1: \\theta \\ne 0.8$\n",
    "\n",
    "За статистику критерия на этот раз так же возьмём $S = \\sum_{i=1}^n X_i \\sim Bin(mn, \\theta) = Bin(12n, \\theta)$, где $n$ — размер выборки. Если нулевая гипотеза верна, то $\\mathbb{E}S = 0.8nm = 9.6n$.\n",
    "\n",
    "Для рассчёта $p$-значения воспользуемся вновь формулой из предыдущего пункта:\n",
    "\n",
    "$$p = \\sum_{i \\in \\mathcal{I}} P(S = i|H_0),$$\n",
    "\n",
    "где $\\mathcal{I} = \\{i: P(S = i|H_0) \\le P(S=\\sum_{i=1}^n X_i|H_0)\\}$."
   ]
  },
  {
   "cell_type": "code",
   "execution_count": 17,
   "metadata": {},
   "outputs": [
    {
     "name": "stdout",
     "output_type": "stream",
     "text": [
      "H0 is rejected\n"
     ]
    }
   ],
   "source": [
    "X3b = data['Ex3b']\n",
    "X3b_n = len(X3b)\n",
    "\n",
    "m = 12\n",
    "\n",
    "test_result(stats.binomtest(sum(X3b), m*X3b_n, 0.8))"
   ]
  },
  {
   "cell_type": "markdown",
   "metadata": {},
   "source": [
    "Посмотрим на функцию вероятности интересующего нас распределения при условии выполнения нулевой гипотезы и на эмпирические частоты из нашей выборки:"
   ]
  },
  {
   "cell_type": "code",
   "execution_count": 18,
   "metadata": {},
   "outputs": [
    {
     "data": {
      "image/png": "[encoded data removed]",
      "text/plain": [
       "<Figure size 640x480 with 1 Axes>"
      ]
     },
     "metadata": {},
     "output_type": "display_data"
    }
   ],
   "source": [
    "import matplotlib.pyplot as plt\n",
    "import numpy as np\n",
    "\n",
    "x_space = np.arange(m+1)\n",
    "emp_freq = np.zeros(m+1)\n",
    "\n",
    "for x in X3b:\n",
    "    emp_freq[x] += 1\n",
    "\n",
    "plt.plot(x_space, stats.binom.pmf(x_space, m, 0.8))\n",
    "plt.plot(x_space, emp_freq/X3b_n)\n",
    "plt.show()"
   ]
  },
  {
   "cell_type": "markdown",
   "metadata": {},
   "source": [
    "Видим, что расхождения всё-таки достаточно существенные, и действительно вряд ли здесь была совершена ошибка первого рода.\n",
    "\n",
    "Попробуем рассмотреть более реалистичное значение параметра: 0.77."
   ]
  },
  {
   "cell_type": "code",
   "execution_count": 19,
   "metadata": {},
   "outputs": [
    {
     "data": {
      "image/png": "[encoded data removed]",
      "text/plain": [
       "<Figure size 640x480 with 1 Axes>"
      ]
     },
     "metadata": {},
     "output_type": "display_data"
    }
   ],
   "source": [
    "plt.plot(x_space, stats.binom.pmf(x_space, m, 0.77))\n",
    "plt.plot(x_space, emp_freq/X3b_n)\n",
    "plt.show()"
   ]
  },
  {
   "cell_type": "markdown",
   "metadata": {},
   "source": [
    "В этом случае расхождения не такие сильные. Посмотрим, как ведёт себя критерий:"
   ]
  },
  {
   "cell_type": "code",
   "execution_count": 20,
   "metadata": {},
   "outputs": [
    {
     "name": "stdout",
     "output_type": "stream",
     "text": [
      "H0 is not rejected\n"
     ]
    }
   ],
   "source": [
    "test_result(stats.binomtest(sum(X3b), m*X3b_n, 0.77))"
   ]
  },
  {
   "cell_type": "markdown",
   "metadata": {},
   "source": [
    "При таком тесте отвергнуть нулевую гипотезу с данным уровнем значимости уже нет оснований."
   ]
  },
  {
   "cell_type": "markdown",
   "metadata": {},
   "source": [
    "(с)\n",
    "\n",
    "Снова рассмотрим случай двусторонней критической области:\n",
    "\n",
    "$H_0: \\theta = 0.8\\\\H_1: \\theta \\ne 0.8$\n",
    "\n",
    "За статистику критерия на этот раз возьмём минимальное значение выборки $X_{min} = \\min_{i \\in \\{1,...,n\\}} X_i \\sim Geom(1-(1-\\theta)^n)$, где $n$ — размер выборки.\n",
    "Конкретное значение, посчитанное по выборке, обозначим как $x_{min}$.\n",
    "\n",
    "$p$-значение в данном случае рассчитать очень просто, если мы взглянем на вид функции вероятности геометрического распределения:\n",
    "\n",
    "$$p = P(X_{min} \\ge x_{min}|H_0) = (1-(1-(1-0.8)^n))^{x_{min}} = 0.2^{nx_{min}}$$"
   ]
  },
  {
   "cell_type": "code",
   "execution_count": 28,
   "metadata": {},
   "outputs": [
    {
     "name": "stdout",
     "output_type": "stream",
     "text": [
      "p-value: 1.0\n"
     ]
    }
   ],
   "source": [
    "X3c = data['Ex3c']\n",
    "\n",
    "print(f\"p-value: {0.2**(len(X3c)*min(X3c))}\")"
   ]
  },
  {
   "cell_type": "markdown",
   "metadata": {},
   "source": [
    "В данном тесте отклонить нулевую гипотезу у нас оснований нет.\n",
    "\n",
    "В принципе можно использовать и другой критерий, аналогичный двум предыдущим (там сумма значений выборки будет иметь уже отрицательное биномиальное распределение с параметрами $n$ и $\\theta$), но я так и не понял, как там можно грамотно посчитать $p$-значение в общем случае."
   ]
  },
  {
   "cell_type": "markdown",
   "metadata": {},
   "source": [
    "### <span style=\"color:green\">Task 4</span>\n",
    "\n",
    "Переформулируем нулевую гипотезу:\n",
    "\n",
    "$H_0: F(x) = F_0(x) \\equiv \\int_{-\\infty}^x p_\\xi(t)dt \\equiv \\int_0^x 5t^4dt \\equiv x^5$ для $x \\in [0, 1]$.\n",
    "\n",
    "Соответственно альтернативная гипотеза будет иметь вид:\n",
    "\n",
    "$H_1: F(x) \\ne  F_0(x) \\equiv x^5$ для $x \\in [0, 1]$.\n",
    "\n",
    "Сперва проверим, что все значения в выборке лежат в нужном нам диапазоне (это упростит задание функции распределения):"
   ]
  },
  {
   "cell_type": "code",
   "execution_count": 71,
   "metadata": {},
   "outputs": [],
   "source": [
    "X4 = data['Ex4']\n",
    "\n",
    "assert all(0 <= x <= 1 for x in X4)"
   ]
  },
  {
   "cell_type": "markdown",
   "metadata": {},
   "source": [
    "Ошибок нет. Тогда воспользуемся уже знакомым критерием Колмогорова-Смирнова:"
   ]
  },
  {
   "cell_type": "code",
   "execution_count": 76,
   "metadata": {},
   "outputs": [
    {
     "name": "stdout",
     "output_type": "stream",
     "text": [
      "H0 is rejected\n"
     ]
    }
   ],
   "source": [
    "test_result(stats.kstest(X4, lambda x: x**5))"
   ]
  },
  {
   "cell_type": "markdown",
   "metadata": {},
   "source": [
    "Посмотрим на функцию плотности интересующего нас распределения при условии выполнения нулевой гипотезы и на гистограмму частот из нашей выборки:"
   ]
  },
  {
   "cell_type": "code",
   "execution_count": 77,
   "metadata": {},
   "outputs": [
    {
     "data": {
      "image/png": "[encoded data removed]",
      "text/plain": [
       "<Figure size 640x480 with 1 Axes>"
      ]
     },
     "metadata": {},
     "output_type": "display_data"
    }
   ],
   "source": [
    "x_space = np.linspace(0.0, 1.0)\n",
    "\n",
    "plt.hist(X4, bins='sturges', density=True)\n",
    "plt.plot(x_space, 5*x_space**4)\n",
    "plt.show()"
   ]
  },
  {
   "cell_type": "markdown",
   "metadata": {},
   "source": [
    "### <span style=\"color:green\">Task 5</span>\n",
    "\n",
    "Имеем смесь непрерывных распределений, т. е. другое непрерывное распределение. Следовательно, можем применить критерий Колмогорова-Смирнова:"
   ]
  },
  {
   "cell_type": "code",
   "execution_count": 98,
   "metadata": {},
   "outputs": [
    {
     "name": "stdout",
     "output_type": "stream",
     "text": [
      "H0 is not rejected\n"
     ]
    }
   ],
   "source": [
    "X5 = data['Ex5']\n",
    "\n",
    "def mixture_cdf(x):\n",
    "    return 0.5*stats.norm(-1, 1).cdf(x) + 0.5*stats.norm(1, 1).cdf(x)\n",
    "\n",
    "test_result(stats.kstest(X5, mixture_cdf))"
   ]
  },
  {
   "cell_type": "markdown",
   "metadata": {},
   "source": [
    "Посмотрим на функцию плотности интересующего нас распределения при условии выполнения нулевой гипотезы и на гистограмму частот из нашей выборки:"
   ]
  },
  {
   "cell_type": "code",
   "execution_count": 115,
   "metadata": {},
   "outputs": [
    {
     "data": {
      "image/png": "[encoded data removed]",
      "text/plain": [
       "<Figure size 640x480 with 1 Axes>"
      ]
     },
     "metadata": {},
     "output_type": "display_data"
    }
   ],
   "source": [
    "x_space = np.linspace(min(X5), max(X5))\n",
    "\n",
    "plt.hist(X5, bins='sturges', density=True)\n",
    "plt.plot(x_space, 0.5*stats.norm(-1, 1).pdf(x_space) + 0.5*stats.norm(1, 1).pdf(x_space))\n",
    "plt.show()"
   ]
  },
  {
   "cell_type": "markdown",
   "metadata": {},
   "source": [
    "### <span style=\"color:green\">Task 6</span>\n",
    "\n",
    "Имеем смесь распределений, которая уже не будет являться непрерывным распределением, поэтому критрий Колмогорова-Смирнова применить уже нельзя.\n",
    "\n",
    "Совершенно естественно будет воспользоваться в данном случае комбинированным критерием, состоящим из трёх частей:\n",
    "\n",
    "1. Первая часть определяет суммарную долю нулей и единиц в выборке и применяет биномиальный тест (0 и 1 условно считаем за единицы, а остальные значения за 0, и проверяем $H_0: p = \\frac{1}{3}$).\n",
    "2. Вторая часть применяет к подвыборке из нулей и единиц биномиальный тест и проверяет $H_0: p = \\frac{1}{2}$.\n",
    "3. Третья часть применяет критерий Колмогорова-Смирнова к оставшейся подвыборке.\n",
    "\n",
    "Статистики для всех трёх частей критерия независимы, поэтому можем спокойно применять следующее правило:\n",
    "\n",
    "Если $p$-значение хотя бы для одной из частей меньше или равно $\\sqrt[3]{0.05}$, то мы отвергаем нулевую гипотезу."
   ]
  },
  {
   "cell_type": "code",
   "execution_count": 147,
   "metadata": {},
   "outputs": [
    {
     "name": "stdout",
     "output_type": "stream",
     "text": [
      "H0 is rejected\n",
      "p1: 1.4379721576696093e-08, p2: 0.7981285251985665, p3: 0.36547778028957356, alpha: 0.3684031498640387\n"
     ]
    }
   ],
   "source": [
    "X6 = data['Ex6']\n",
    "X6_n = len(X6)\n",
    "\n",
    "num0 = 0\n",
    "num1 = 0\n",
    "for x in X6:\n",
    "    if x == 0:\n",
    "        num0 += 1\n",
    "    elif x == 1:\n",
    "        num1 += 1\n",
    "        \n",
    "num01 = num0 + num1\n",
    "        \n",
    "alpha = np.cbrt(0.05)\n",
    "    \n",
    "# part 1\n",
    "p1 = stats.binomtest(num01, X6_n, 1/3).pvalue\n",
    "\n",
    "# part 2\n",
    "p2 = stats.binomtest(num1, num01, 1/2).pvalue\n",
    "\n",
    "# part 3\n",
    "p3 = stats.kstest(X6[(X6 != 0) & (X6 != 1)], stats.uniform.cdf, args=(0, 1)).pvalue\n",
    "\n",
    "if any((p1 <= alpha, p2 <= alpha, p3 <= alpha)):\n",
    "    print(\"H0 is rejected\")\n",
    "else:\n",
    "    print(\"H0 is not rejected\")\n",
    "    \n",
    "print(f\"p1: {p1}, p2: {p2}, p3: {p3}, alpha: {alpha}\")"
   ]
  },
  {
   "cell_type": "markdown",
   "metadata": {},
   "source": [
    "### Не уверен, что я всё сделал правильно, но я это сделал!"
   ]
  }
 ],
 "metadata": {
  "kernelspec": {
   "display_name": "Python 3 (ipykernel)",
   "language": "python",
   "name": "python3"
  },
  "language_info": {
   "codemirror_mode": {
    "name": "ipython",
    "version": 3
   },
   "file_extension": ".py",
   "mimetype": "text/x-python",
   "name": "python",
   "nbconvert_exporter": "python",
   "pygments_lexer": "ipython3",
   "version": "3.10.0"
  }
 },
 "nbformat": 4,
 "nbformat_minor": 1
}