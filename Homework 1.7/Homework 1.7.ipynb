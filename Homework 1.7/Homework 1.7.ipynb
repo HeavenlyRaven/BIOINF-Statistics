{
 "cells": [
  {
   "cell_type": "markdown",
   "metadata": {
    "collapsed": true
   },
   "source": [
    "### <span style=\"color:green\">Task 1</span>\n",
    "\n",
    "В данном случае известно выражение для теоретической вероятности, значит можно попробовать применить критерий согласия Хи-квадрат.\n",
    "\n",
    "Сперва убедимся, что размер выборки позволяет нам применить критерий:"
   ]
  },
  {
   "cell_type": "code",
   "execution_count": 4,
   "metadata": {},
   "outputs": [
    {
     "data": {
      "text/plain": [
       "200"
      ]
     },
     "execution_count": 4,
     "metadata": {},
     "output_type": "execute_result"
    }
   ],
   "source": [
    "import pandas as pd\n",
    "from scipy import stats\n",
    "\n",
    "\n",
    "def test_result(test, significance_level=0.05):\n",
    "    if test.pvalue <= significance_level:\n",
    "        print(\"H0 is rejected\")\n",
    "    else:\n",
    "        print(\"H0 is not rejected\")\n",
    "        \n",
    "\n",
    "data = pd.read_csv('IB_statistics_data_HW1.7.txt', sep=' ')\n",
    "\n",
    "X1 = data['Ex1']\n",
    "\n",
    "n = len(X1)"
   ]
  },
  {
   "cell_type": "markdown",
   "metadata": {},
   "source": [
    "$200 \\ge 50$, так что с этим всё в порядке.\n",
    "\n",
    "Затем посчитаем границы выборки, найдя минимальное и максимальное значение:"
   ]
  },
  {
   "cell_type": "code",
   "execution_count": 5,
   "metadata": {},
   "outputs": [],
   "source": [
    "X1_min = min(X1)\n",
    "X1_max = max(X1)"
   ]
  },
  {
   "cell_type": "markdown",
   "metadata": {},
   "source": [
    "Теперь посчитаем наши теоретические частоты, домноженные на объем выборки:"
   ]
  },
  {
   "cell_type": "code",
   "execution_count": 39,
   "metadata": {},
   "outputs": [],
   "source": [
    "import math \n",
    "\n",
    "def P(n):\n",
    "    return 6/(math.pi*math.pi*n*n)\n",
    "\n",
    "f_exp = []\n",
    "\n",
    "for i in range(X1_min, X1_max+1):\n",
    "    f_exp.append(n*P(i))  \n",
    "    \n",
    "residue = n-sum(f_exp)"
   ]
  },
  {
   "cell_type": "markdown",
   "metadata": {},
   "source": [
    "Для того, чтобы применить критерий, объединим 5 и 6 подмножества, а также 7, 8, 9 и 10 подмножества:"
   ]
  },
  {
   "cell_type": "code",
   "execution_count": 59,
   "metadata": {
    "scrolled": true
   },
   "outputs": [
    {
     "data": {
      "text/plain": [
       "[121.58542037080534,\n",
       " 30.396355092701334,\n",
       " 13.509491152311703,\n",
       " 7.599088773175334,\n",
       " 8.240789602910137,\n",
       " 18.66885500809611]"
      ]
     },
     "execution_count": 59,
     "metadata": {},
     "output_type": "execute_result"
    }
   ],
   "source": [
    "ff_exp = f_exp[:4] + [sum(f_exp[4:6])] + [sum(f_exp[6:])+residue]\n",
    "ff_exp"
   ]
  },
  {
   "cell_type": "markdown",
   "metadata": {},
   "source": [
    "Теперь посчитаем эмпирические частоты, домноженные на объем выборки (мощности классов на выборочных данных):"
   ]
  },
  {
   "cell_type": "code",
   "execution_count": 53,
   "metadata": {},
   "outputs": [
    {
     "data": {
      "text/plain": [
       "[120, 44, 11, 7, 9, 9]"
      ]
     },
     "execution_count": 53,
     "metadata": {},
     "output_type": "execute_result"
    }
   ],
   "source": [
    "X1_list = list(X1)\n",
    "f_obs = []\n",
    "\n",
    "for i in range(X1_min, X1_max+1):\n",
    "    f_obs.append(X1_list.count(i))\n",
    "\n",
    "ff_obs = f_obs[:4] + [sum(f_obs[4:6])] + [sum(f_obs[6:])]\n",
    "ff_obs"
   ]
  },
  {
   "cell_type": "markdown",
   "metadata": {},
   "source": [
    "Теперь применим тест Пирсона:"
   ]
  },
  {
   "cell_type": "code",
   "execution_count": 61,
   "metadata": {},
   "outputs": [
    {
     "name": "stdout",
     "output_type": "stream",
     "text": [
      "H0 is rejected\n"
     ]
    }
   ],
   "source": [
    "test_result(stats.chisquare(ff_obs, ff_exp))"
   ]
  },
  {
   "cell_type": "markdown",
   "metadata": {},
   "source": [
    "### <span style=\"color:green\">Task 2</span>"
   ]
  }
 ],
 "metadata": {
  "kernelspec": {
   "display_name": "Python 3 (ipykernel)",
   "language": "python",
   "name": "python3"
  },
  "language_info": {
   "codemirror_mode": {
    "name": "ipython",
    "version": 3
   },
   "file_extension": ".py",
   "mimetype": "text/x-python",
   "name": "python",
   "nbconvert_exporter": "python",
   "pygments_lexer": "ipython3",
   "version": "3.11.0"
  }
 },
 "nbformat": 4,
 "nbformat_minor": 1
}