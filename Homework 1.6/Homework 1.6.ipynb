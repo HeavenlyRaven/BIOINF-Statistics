{
 "cells": [
  {
   "cell_type": "markdown",
   "metadata": {
    "collapsed": true
   },
   "source": [
    "### <span style=\"color:green\">Task 1</span>\n",
    "\n",
    "Для модели $N(\\theta, 1)$, где $H_0: \\theta = 0$ и требования зависимости статистики от выборочного среднего разумно будет воспользоваться точным $Z$-тестом. По лемме Фишера:\n",
    "\n",
    "$$Z = \\frac{\\overline{X}-0}{1}\\sqrt{n}= \\overline{X}\\sqrt{n} \\sim N(0, 1)$$\n",
    "\n",
    "Покажем его состоятельность и несмещённость:\n",
    "\n",
    "$$\\forall F \\in \\mathbb{F}_1:~W_n(F) = P\\left(Z \\in \\left(-\\infty; z_\\frac{\\alpha}{2}-\\theta\\sqrt{n}\\right)\\right) + P\\left(Z \\in \\left(z_{1-\\frac{\\alpha}{2}}-\\theta\\sqrt{n}; +\\infty\\right)\\right), \\theta \\ne 0$$\n",
    "$$\\alpha_I = W(F_0) = \\alpha,$$\n",
    "\n",
    "где $\\alpha$ – уровень значимости, а $z_\\theta$ – $\\theta$-квантиль стандартного нормального распределения. Тогда:\n",
    "\n",
    "$$\\forall F \\in \\mathbb{F}_1~W_n(F) = \\Phi_0\\left(z_\\frac{\\alpha}{2}-\\theta\\sqrt{n}\\right)+\\Phi_0\\left(z_\\frac{\\alpha}{2}+\\theta\\sqrt{n}\\right)$$\n",
    "\n",
    "Состоятельность:\n",
    "$$\\forall F \\in \\mathbb{F}_1~\\lim_{n \\to \\infty}W_n(F) = \\Phi_0\\left(-\\infty\\right)+\\Phi_0\\left(+\\infty\\right) = 0 + 1 = 1$$\n",
    "\n",
    "Несмещённость:\n",
    "\n",
    "$$\\forall F \\in \\mathbb{F}_1~W_n(F) = \\Phi_0\\left(z_\\frac{\\alpha}{2}-\\theta\\sqrt{n}\\right)+\\Phi_0\\left(z_\\frac{\\alpha}{2}+\\theta\\sqrt{n}\\right) > \\alpha_I = \\alpha = 2\\Phi_0\\left(z_\\frac{\\alpha}{2}\\right)$$\n",
    "\n",
    "Несмещённость может быть доказана по свойствам функции распределения нормального распределения."
   ]
  },
  {
   "cell_type": "markdown",
   "metadata": {},
   "source": [
    "### <span style=\"color:green\">Task 3</span>\n",
    "\n",
    "Модель: $Ber(\\theta)$\n",
    "\n",
    "Выборка: $\\mathbb{X}, |\\mathbb{X}|=n$\n",
    "\n",
    "Уровень значимости: $\\alpha = 0.05$\n",
    "\n",
    "Гипотеза: $H_0: \\theta \\le 0.5$\n",
    "\n",
    "Статистика: $T(\\mathbb{X}) = \\sum_{i=1}^{n}X_i \\sim Bin(n, \\theta)$\n",
    "\n",
    "Критическая область для выборки: $\\pmb{X}_1 = \\{\\mathbb{X}| T(\\mathbb{X}) \\ge t(\\alpha)\\}$,\n",
    "\n",
    "где $t(\\alpha)$ – решение уравнения $\\sum_{k=t}^n P(X=k|H_0) = \\sum_{k=t}^n \\binom n k 0.5^k 0.5^{n-k} = \\alpha$, то есть $(1-\\alpha)$-квантиль биномиального распределения с параметрами $n$ и $0.5$."
   ]
  },
  {
   "cell_type": "code",
   "execution_count": 13,
   "metadata": {},
   "outputs": [
    {
     "name": "stdout",
     "output_type": "stream",
     "text": [
      "H0 is not rejected\n"
     ]
    }
   ],
   "source": [
    "import pandas as pd\n",
    "from scipy import stats\n",
    "\n",
    "\n",
    "def test_result(test, significance_level=0.05):\n",
    "    if test.pvalue <= significance_level:\n",
    "        print(\"H0 is rejected\")\n",
    "    else:\n",
    "        print(\"H0 is not rejected\")\n",
    "        \n",
    "\n",
    "data = pd.read_csv('IB_statistics_data_HW1.6.txt', sep=' ')\n",
    "X3 = data['Ex3']\n",
    "\n",
    "test_result(stats.binomtest(sum(X3), len(X3), alternative='greater'))"
   ]
  },
  {
   "cell_type": "markdown",
   "metadata": {},
   "source": [
    "### <span style=\"color:green\">Task 4</span>\n",
    "\n",
    "Случайную величину $\\tau$ можно представить в виде произведения двух независимых случайных величин: $\\tau = \\xi \\eta$, где $\\eta \\sim U(0, 1)$\n",
    "\n",
    "Тогда:\n",
    "\n",
    "$$\\mathbb{E}\\tau = \\mathbb{E}\\xi \\mathbb{E}\\eta = \\frac{1}{2\\theta}$$\n",
    "$$\\mathbb{D}\\tau = \\mathbb{D}\\xi\\mathbb{E}^2\\eta + \\mathbb{D}\\eta\\mathbb{E}^2\\xi + \\mathbb{D}\\xi\\mathbb{D}\\eta = \\frac{5}{12\\theta^2}$$\n",
    "\n",
    "Из ЦПТ:\n",
    "\n",
    "Гипотеза: $H_0: \\theta = 1$\n",
    "\n",
    "Статистика: $Z(\\mathbb{X}) = \\sqrt{n}\\frac{\\overline{X} - \\frac{1}{2}}{\\sqrt{\\frac{5}{12}}} \\to N(0, 1)$\n",
    "\n",
    "Критическая область для выборки: $\\pmb{X}_1 = \\{\\mathbb{X}| Z(\\mathbb{X}) < z_\\frac{\\alpha}{2} \\lor Z(\\mathbb{X}) > z_{1-\\frac{\\alpha}{2}}\\}$"
   ]
  },
  {
   "cell_type": "code",
   "execution_count": 23,
   "metadata": {},
   "outputs": [
    {
     "name": "stdout",
     "output_type": "stream",
     "text": [
      "H0 is rejected\n"
     ]
    }
   ],
   "source": [
    "from math import sqrt\n",
    "\n",
    "X4 = data['Ex4']\n",
    "\n",
    "n = len(X4)\n",
    "M = X4.mean()\n",
    "\n",
    "Z = sqrt(n)*(M - 0.5)/sqrt(5/12)\n",
    "\n",
    "if Z < stats.norm.ppf(0.05/2) or Z > stats.norm.ppf(1-0.05/2):\n",
    "    print(\"H0 is rejected\")\n",
    "else:\n",
    "    print(\"H0 is not rejected\")"
   ]
  },
  {
   "cell_type": "markdown",
   "metadata": {},
   "source": [
    "### <span style=\"color:green\">Task 5</span>\n",
    "\n",
    "Сперва запишем плотность распределения случайной величины $\\xi$:\n",
    "\n",
    "$$p_\\xi(x) = \\begin{cases}\\frac{1}{2\\theta} + 1,~~x \\in [0, \\theta] \\cap [\\theta-1, \\theta-0.5]\\\\ \\frac{1}{2\\theta},~~x \\in [0, \\theta], x \\notin [\\theta-1, \\theta-0.5] \\\\ 1,~~x \\notin [0, \\theta], x \\in [\\theta-1, \\theta-0.5] \\\\ 0,~~x \\notin [0, \\theta], x \\notin [\\theta-1, \\theta-0.5] \\end{cases}$$\n",
    "\n",
    "Очевидно, что чтобы выполнялась нулевая гипотеза, отрезок $[-0.2, 0.2]$ должен полностью лежать в одной из четырёх рассматриваемых областей.\n",
    "\n",
    "Рассмотрев три разных варианта задания $\\theta$, заметим, что это происходит только в случае, когда $\\theta = 0.5$. Соответственно, перепишем нулевую гипотезу в следующем виде:\n",
    "\n",
    "$H_0: \\theta = 0.5$\n",
    "\n",
    "В таком случае надо просто проверить, что наша выборка взята из распределения $U(-0.5, 0.5)$, а для этого можно воспользоваться критерием Колмогорова-Смирнова:"
   ]
  },
  {
   "cell_type": "code",
   "execution_count": 35,
   "metadata": {
    "scrolled": true
   },
   "outputs": [
    {
     "name": "stdout",
     "output_type": "stream",
     "text": [
      "H0 is rejected\n"
     ]
    }
   ],
   "source": [
    "test_result(stats.kstest(data['Ex5'], stats.uniform.cdf, args=(-0.5, 0.5)))"
   ]
  },
  {
   "cell_type": "markdown",
   "metadata": {},
   "source": [
    "### <span style=\"color:green\">Task 6</span>\n",
    "\n",
    "Пусть $p_1(X), p_2(X)$ – соответствующие плотностям наших распределений функции правдоподобия, зависящие уже от выборок. Рассмотрим критерий следующего вида:\n",
    "\n",
    "$$\\phi(X) = \\begin{cases} 1,~~p_2(X) > kp_1(X) \\\\ 0,~~p_2(X) < kp_1(X) \\end{cases}$$\n",
    "\n",
    "Константа $k$ при этом зависит от уровня значимости и находится из уравнения $\\mathbb{E}_{F_1}\\phi(X) = \\alpha$."
   ]
  },
  {
   "cell_type": "markdown",
   "metadata": {},
   "source": [
    "### <span style=\"color:green\">Task 7</span>\n",
    "\n",
    "(b) Имеем распределение из экспоненциального семейства и гипотезу вида $H_0: \\theta \\le \\theta_0$. Тогда:\n",
    "\n",
    "$$\\varphi(X) = \\begin{cases}1,~~n\\overline{X} > C \\\\ 0,~~n\\overline{X} > C\\end{cases}$$\n",
    "\n",
    "$C$ выбираем так, что $\\mathbb{E}\\varphi(X) = \\alpha$ при $\\theta \\le 7$.\n",
    "\n",
    "$$\\mathbb{E}\\varphi(X) = P\\left(\\overline{X} > \\frac{C}{n}\\right), \\theta \\le 7$$\n",
    "\n",
    "По свойству экспоненциального распределения:\n",
    "\n",
    "$$\\sum_{i=1}^n X_i \\sim \\Gamma\\left(n, \\frac{1}{\\theta}\\right)$$\n",
    "\n",
    "Тогда искомое мат. ожидание:\n",
    "\n",
    "$$P\\left(\\overline{X} > \\frac{C}{n}\\right) = 1 - F\\left(\\frac{C}{n}\\right),$$\n",
    "\n",
    "где $F(x)$ – функция распределения $\\Gamma\\left(n, \\frac{1}{\\theta}\\right)$ при  $\\theta \\le 7$"
   ]
  }
 ],
 "metadata": {
  "kernelspec": {
   "display_name": "Python 3 (ipykernel)",
   "language": "python",
   "name": "python3"
  },
  "language_info": {
   "codemirror_mode": {
    "name": "ipython",
    "version": 3
   },
   "file_extension": ".py",
   "mimetype": "text/x-python",
   "name": "python",
   "nbconvert_exporter": "python",
   "pygments_lexer": "ipython3",
   "version": "3.10.0"
  }
 },
 "nbformat": 4,
 "nbformat_minor": 1
}