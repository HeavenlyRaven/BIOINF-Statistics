{
 "cells": [
  {
   "cell_type": "markdown",
   "metadata": {},
   "source": [
    "### Предсказания птиц\n",
    "\n",
    "Имеем распределение дождливых дней по Бернулли с параметром $p = \\frac{70}{365}$. Считаем, что 70 обозначет именно количество дождливых дней в году в среднем.\n",
    "\n",
    "Так как вероятность успешного предсказания одинакова, и наблюдения за птицами независимы, то можно провести один биномиальный тест, просуммировав соответствующие данные:"
   ]
  },
  {
   "cell_type": "code",
   "execution_count": 22,
   "metadata": {},
   "outputs": [
    {
     "name": "stdout",
     "output_type": "stream",
     "text": [
      "H0 is rejected\n"
     ]
    }
   ],
   "source": [
    "from scipy import stats\n",
    "\n",
    "def test_result(test, significance_level=0.05):\n",
    "    if test.pvalue <= significance_level:\n",
    "        print(\"H0 is rejected\")\n",
    "    else:\n",
    "        print(\"H0 is not rejected\")\n",
    "\n",
    "n = 24+37+29+33+28+36+32\n",
    "k = 15+16+13+21+18+20+21\n",
    "\n",
    "test_result(stats.binomtest(k, n, 70/365))"
   ]
  },
  {
   "cell_type": "markdown",
   "metadata": {},
   "source": [
    "Отвергли гипотезу, что вероятность дождя не меняется."
   ]
  },
  {
   "cell_type": "markdown",
   "metadata": {
    "collapsed": true
   },
   "source": [
    "### Лаборант\n",
    "\n",
    "Есть модель неизвестного распределения. Нужно очистить данные (убрать 8% экстремальных значений выборок) и провести проверку следующей гипотезы:\n",
    "\n",
    "$$H_0: \\mathbb{E}{X}_1 = \\mathbb{E}{X}_2$$\n",
    "\n",
    "Если лаборант тоже тщательно помыл пробирки, как и мы, то среднее значение аммиака не должно отличаться в выборках.\n",
    "\n",
    "Для проверки данной гипотезы превосходно подходит двухвыборочный $t$-критерий Стьюдента для независимых выборок."
   ]
  },
  {
   "cell_type": "code",
   "execution_count": 10,
   "metadata": {},
   "outputs": [
    {
     "name": "stdout",
     "output_type": "stream",
     "text": [
      "H0 is not rejected\n"
     ]
    }
   ],
   "source": [
    "import pandas as pd\n",
    "\n",
    "lab1_sample = pd.read_csv('IB_statistics_data_lab1.txt', sep=' ')\n",
    "lab2_sample = pd.read_csv('IB_statistics_data_lab1.txt', sep=' ')\n",
    "n1 = len(lab1_sample)\n",
    "n2 = len(lab2_sample)\n",
    "\n",
    "lab1 = lab1_sample.sort_values(\"Ammonia\")[int(n1*0.08):int(n1*0.92)]\n",
    "lab2 = lab2_sample.sort_values(\"Ammonia\")[int(n2*0.08):int(n2*0.92)]\n",
    "\n",
    "test_result(stats.ttest_ind(lab1, lab2))"
   ]
  },
  {
   "cell_type": "markdown",
   "metadata": {},
   "source": [
    "### Поросята\n",
    "\n",
    "В данном случае проверяем гипотезу:\n",
    "\n",
    "$$H_0: \\lambda \\le 3.14$$\n",
    "\n",
    "Для этого воспользуемся РНМ критерием. Так как распределение Пуассона относится к семейству экспоненциальных:\n",
    "\n",
    "$$\\varphi(x) = \\begin{cases}1, x > C \\\\ \\gamma, x = C \\\\ 0, x > C\\end{cases}$$\n",
    "\n",
    "$C$ и $\\gamma$ выбираем так, что $\\mathbb{E}\\varphi(x) = 0.01$ при $\\lambda = 3.14$."
   ]
  }
 ],
 "metadata": {
  "kernelspec": {
   "display_name": "Python 3 (ipykernel)",
   "language": "python",
   "name": "python3"
  },
  "language_info": {
   "codemirror_mode": {
    "name": "ipython",
    "version": 3
   },
   "file_extension": ".py",
   "mimetype": "text/x-python",
   "name": "python",
   "nbconvert_exporter": "python",
   "pygments_lexer": "ipython3",
   "version": "3.10.0"
  }
 },
 "nbformat": 4,
 "nbformat_minor": 1
}